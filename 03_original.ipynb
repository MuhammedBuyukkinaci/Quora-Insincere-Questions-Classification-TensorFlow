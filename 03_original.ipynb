{
 "cells": [
  {
   "cell_type": "code",
   "execution_count": 1,
   "metadata": {},
   "outputs": [
    {
     "name": "stderr",
     "output_type": "stream",
     "text": [
      "Using TensorFlow backend.\n"
     ]
    }
   ],
   "source": [
    "import numpy as np\n",
    "import pandas as pd\n",
    "from keras.preprocessing.text import Tokenizer\n",
    "from keras.preprocessing.text import text_to_word_sequence\n",
    "import os\n",
    "from tqdm import tqdm\n",
    "import re\n",
    "from keras.preprocessing.sequence import pad_sequences\n",
    "import tensorflow as tf\n",
    "from datetime import datetime\n",
    "from sklearn.model_selection import StratifiedKFold\n",
    "from sklearn.metrics import f1_score\n",
    "import matplotlib.pyplot as plt\n",
    "from sklearn.metrics import confusion_matrix\n",
    "import itertools"
   ]
  },
  {
   "cell_type": "code",
   "execution_count": 2,
   "metadata": {},
   "outputs": [],
   "source": [
    "tqdm.pandas('desc')"
   ]
  },
  {
   "cell_type": "code",
   "execution_count": 3,
   "metadata": {},
   "outputs": [],
   "source": [
    "#Always seed the randomness of this universe.\n",
    "np.random.seed(51)"
   ]
  },
  {
   "cell_type": "code",
   "execution_count": 4,
   "metadata": {},
   "outputs": [],
   "source": [
    "#Define HyperParameters\n",
    "scoring_amount = 256 # how many samples taken to score test data\n",
    "n_splits = 5 # how many folds\n",
    "MAX_WORD_TO_USE = 60000 # how many words to use in training\n",
    "MAX_LEN = 50 # number of time-steps.\n",
    "EMBED_SIZE = 300 #GLoVe 100-D\n",
    "batchSize = 256 # how many samples to feed neural network\n",
    "GRU_UNITS = 256 # Number of nodes in GRU Layer\n",
    "numClasses = 2 #{Sincere,Insincere}\n",
    "attention_size = 64 # how many nodes in attention layer\n",
    "iterations = 5000 # How many iterations to train\n",
    "nodes_on_FC = 64 # Number of nodes on FC layer\n",
    "epsilon = 1e-4# For batch normalization\n",
    "val_loop_iter = 50 # in how many iters we record"
   ]
  },
  {
   "cell_type": "code",
   "execution_count": 5,
   "metadata": {},
   "outputs": [],
   "source": [
    "#Reading csv's\n",
    "train = pd.read_csv('../input/train.csv')\n",
    "test = pd.read_csv('../input/test.csv')"
   ]
  },
  {
   "cell_type": "code",
   "execution_count": 6,
   "metadata": {},
   "outputs": [
    {
     "data": {
      "text/html": [
       "<div>\n",
       "<style scoped>\n",
       "    .dataframe tbody tr th:only-of-type {\n",
       "        vertical-align: middle;\n",
       "    }\n",
       "\n",
       "    .dataframe tbody tr th {\n",
       "        vertical-align: top;\n",
       "    }\n",
       "\n",
       "    .dataframe thead th {\n",
       "        text-align: right;\n",
       "    }\n",
       "</style>\n",
       "<table border=\"1\" class=\"dataframe\">\n",
       "  <thead>\n",
       "    <tr style=\"text-align: right;\">\n",
       "      <th></th>\n",
       "      <th>qid</th>\n",
       "      <th>question_text</th>\n",
       "      <th>target</th>\n",
       "    </tr>\n",
       "  </thead>\n",
       "  <tbody>\n",
       "    <tr>\n",
       "      <th>0</th>\n",
       "      <td>00002165364db923c7e6</td>\n",
       "      <td>How did Quebec nationalists see their province...</td>\n",
       "      <td>0</td>\n",
       "    </tr>\n",
       "    <tr>\n",
       "      <th>1</th>\n",
       "      <td>000032939017120e6e44</td>\n",
       "      <td>Do you have an adopted dog, how would you enco...</td>\n",
       "      <td>0</td>\n",
       "    </tr>\n",
       "  </tbody>\n",
       "</table>\n",
       "</div>"
      ],
      "text/plain": [
       "                    qid                                      question_text  \\\n",
       "0  00002165364db923c7e6  How did Quebec nationalists see their province...   \n",
       "1  000032939017120e6e44  Do you have an adopted dog, how would you enco...   \n",
       "\n",
       "   target  \n",
       "0       0  \n",
       "1       0  "
      ]
     },
     "execution_count": 6,
     "metadata": {},
     "output_type": "execute_result"
    }
   ],
   "source": [
    "train.head(2)"
   ]
  },
  {
   "cell_type": "code",
   "execution_count": 7,
   "metadata": {},
   "outputs": [],
   "source": [
    "def add_features(df):\n",
    "    \n",
    "    df['question_text'] = df['question_text'].progress_apply(lambda x:str(x))\n",
    "    df['total_length'] = df['question_text'].progress_apply(len)\n",
    "    df['capitals'] = df['question_text'].progress_apply(lambda comment: sum(1 for c in comment if c.isupper()))\n",
    "    df['caps_vs_length'] = df.progress_apply(lambda row: float(row['capitals'])/float(row['total_length']),\n",
    "                                axis=1)\n",
    "    df['num_words'] = df.question_text.str.count('\\S+')\n",
    "    df['num_unique_words'] = df['question_text'].progress_apply(lambda comment: len(set(w for w in comment.split())))\n",
    "    df['words_vs_unique'] = df['num_unique_words'] / df['num_words']  \n",
    "\n",
    "    return df"
   ]
  },
  {
   "cell_type": "code",
   "execution_count": 8,
   "metadata": {},
   "outputs": [
    {
     "name": "stderr",
     "output_type": "stream",
     "text": [
      "100%|██████████| 1306122/1306122 [00:01<00:00, 985786.12it/s] \n",
      "100%|██████████| 1306122/1306122 [00:01<00:00, 954208.42it/s] \n",
      "100%|██████████| 1306122/1306122 [00:07<00:00, 175055.30it/s]\n",
      "100%|██████████| 1306122/1306122 [00:30<00:00, 43523.84it/s]\n",
      "100%|██████████| 1306122/1306122 [00:05<00:00, 251377.31it/s]\n",
      "100%|██████████| 56370/56370 [00:00<00:00, 797135.96it/s]\n",
      "100%|██████████| 56370/56370 [00:00<00:00, 812263.74it/s]\n",
      "100%|██████████| 56370/56370 [00:00<00:00, 162731.61it/s]\n",
      "100%|██████████| 56370/56370 [00:01<00:00, 45888.62it/s]\n",
      "100%|██████████| 56370/56370 [00:00<00:00, 253188.96it/s]\n"
     ]
    }
   ],
   "source": [
    "train = add_features(train)\n",
    "test = add_features(test)"
   ]
  },
  {
   "cell_type": "code",
   "execution_count": 9,
   "metadata": {},
   "outputs": [
    {
     "data": {
      "text/html": [
       "<div>\n",
       "<style scoped>\n",
       "    .dataframe tbody tr th:only-of-type {\n",
       "        vertical-align: middle;\n",
       "    }\n",
       "\n",
       "    .dataframe tbody tr th {\n",
       "        vertical-align: top;\n",
       "    }\n",
       "\n",
       "    .dataframe thead th {\n",
       "        text-align: right;\n",
       "    }\n",
       "</style>\n",
       "<table border=\"1\" class=\"dataframe\">\n",
       "  <thead>\n",
       "    <tr style=\"text-align: right;\">\n",
       "      <th></th>\n",
       "      <th>qid</th>\n",
       "      <th>question_text</th>\n",
       "      <th>target</th>\n",
       "      <th>total_length</th>\n",
       "      <th>capitals</th>\n",
       "      <th>caps_vs_length</th>\n",
       "      <th>num_words</th>\n",
       "      <th>num_unique_words</th>\n",
       "      <th>words_vs_unique</th>\n",
       "    </tr>\n",
       "  </thead>\n",
       "  <tbody>\n",
       "    <tr>\n",
       "      <th>0</th>\n",
       "      <td>00002165364db923c7e6</td>\n",
       "      <td>How did Quebec nationalists see their province...</td>\n",
       "      <td>0</td>\n",
       "      <td>72</td>\n",
       "      <td>2</td>\n",
       "      <td>0.027778</td>\n",
       "      <td>13</td>\n",
       "      <td>13</td>\n",
       "      <td>1.0000</td>\n",
       "    </tr>\n",
       "    <tr>\n",
       "      <th>1</th>\n",
       "      <td>000032939017120e6e44</td>\n",
       "      <td>Do you have an adopted dog, how would you enco...</td>\n",
       "      <td>0</td>\n",
       "      <td>81</td>\n",
       "      <td>1</td>\n",
       "      <td>0.012346</td>\n",
       "      <td>16</td>\n",
       "      <td>15</td>\n",
       "      <td>0.9375</td>\n",
       "    </tr>\n",
       "    <tr>\n",
       "      <th>2</th>\n",
       "      <td>0000412ca6e4628ce2cf</td>\n",
       "      <td>Why does velocity affect time? Does velocity a...</td>\n",
       "      <td>0</td>\n",
       "      <td>67</td>\n",
       "      <td>2</td>\n",
       "      <td>0.029851</td>\n",
       "      <td>10</td>\n",
       "      <td>8</td>\n",
       "      <td>0.8000</td>\n",
       "    </tr>\n",
       "    <tr>\n",
       "      <th>3</th>\n",
       "      <td>000042bf85aa498cd78e</td>\n",
       "      <td>How did Otto von Guericke used the Magdeburg h...</td>\n",
       "      <td>0</td>\n",
       "      <td>57</td>\n",
       "      <td>4</td>\n",
       "      <td>0.070175</td>\n",
       "      <td>9</td>\n",
       "      <td>9</td>\n",
       "      <td>1.0000</td>\n",
       "    </tr>\n",
       "    <tr>\n",
       "      <th>4</th>\n",
       "      <td>0000455dfa3e01eae3af</td>\n",
       "      <td>Can I convert montra helicon D to a mountain b...</td>\n",
       "      <td>0</td>\n",
       "      <td>77</td>\n",
       "      <td>3</td>\n",
       "      <td>0.038961</td>\n",
       "      <td>15</td>\n",
       "      <td>15</td>\n",
       "      <td>1.0000</td>\n",
       "    </tr>\n",
       "  </tbody>\n",
       "</table>\n",
       "</div>"
      ],
      "text/plain": [
       "                    qid                                      question_text  \\\n",
       "0  00002165364db923c7e6  How did Quebec nationalists see their province...   \n",
       "1  000032939017120e6e44  Do you have an adopted dog, how would you enco...   \n",
       "2  0000412ca6e4628ce2cf  Why does velocity affect time? Does velocity a...   \n",
       "3  000042bf85aa498cd78e  How did Otto von Guericke used the Magdeburg h...   \n",
       "4  0000455dfa3e01eae3af  Can I convert montra helicon D to a mountain b...   \n",
       "\n",
       "   target  total_length  capitals  caps_vs_length  num_words  \\\n",
       "0       0            72         2        0.027778         13   \n",
       "1       0            81         1        0.012346         16   \n",
       "2       0            67         2        0.029851         10   \n",
       "3       0            57         4        0.070175          9   \n",
       "4       0            77         3        0.038961         15   \n",
       "\n",
       "   num_unique_words  words_vs_unique  \n",
       "0                13           1.0000  \n",
       "1                15           0.9375  \n",
       "2                 8           0.8000  \n",
       "3                 9           1.0000  \n",
       "4                15           1.0000  "
      ]
     },
     "execution_count": 9,
     "metadata": {},
     "output_type": "execute_result"
    }
   ],
   "source": [
    "train.head()"
   ]
  },
  {
   "cell_type": "code",
   "execution_count": 10,
   "metadata": {},
   "outputs": [
    {
     "name": "stderr",
     "output_type": "stream",
     "text": [
      "100%|██████████| 1306122/1306122 [00:02<00:00, 583587.41it/s]\n"
     ]
    }
   ],
   "source": [
    "train['first_word'] = train['question_text'].progress_apply(lambda x: x.split()[0])"
   ]
  },
  {
   "cell_type": "code",
   "execution_count": 11,
   "metadata": {},
   "outputs": [],
   "source": [
    "first_word = list(train['first_word'].value_counts().head(30).index)"
   ]
  },
  {
   "cell_type": "code",
   "execution_count": 12,
   "metadata": {},
   "outputs": [],
   "source": [
    "for i in first_word:\n",
    "    train['fw_' + i] = train['question_text'].apply(lambda x: 1 if x.split()[0] == i else 0)\n",
    "    test['fw_' + i] = test['question_text'].apply(lambda x: 1 if x.split()[0] == i else 0)"
   ]
  },
  {
   "cell_type": "code",
   "execution_count": 13,
   "metadata": {},
   "outputs": [],
   "source": [
    "def build_vocab(texts):\n",
    "    sentences = texts.apply(lambda x: x.split()).values\n",
    "    vocab = {}\n",
    "    for sentence in sentences:\n",
    "        for word in sentence:\n",
    "            try:\n",
    "                vocab[word] += 1\n",
    "            except KeyError:\n",
    "                vocab[word] = 1\n",
    "    return vocab\n",
    "\n",
    "def known_contractions(embed):\n",
    "    known = []\n",
    "    for contract in contraction_mapping:\n",
    "        if contract in embed:\n",
    "            known.append(contract)\n",
    "    return known\n",
    "\n",
    "def clean_contractions(text, mapping):\n",
    "    specials = [\"’\", \"‘\", \"´\", \"`\"]\n",
    "    for s in specials:\n",
    "        text = text.replace(s, \"'\")\n",
    "    text = ' '.join([mapping[t] if t in mapping else t for t in text.split(\" \")])\n",
    "    return text\n",
    "\n",
    "def correct_spelling(x, dic):\n",
    "    for word in dic.keys():\n",
    "        x = x.replace(word, dic[word])\n",
    "    return x\n",
    "\n",
    "def unknown_punct(embed, punct):\n",
    "    unknown = ''\n",
    "    for p in punct:\n",
    "        if p not in embed:\n",
    "            unknown += p\n",
    "            unknown += ' '\n",
    "    return unknown\n",
    "\n",
    "def clean_numbers(x):\n",
    "    x = re.sub('[0-9]{5,}', '#####', x)\n",
    "    x = re.sub('[0-9]{4}', '####', x)\n",
    "    x = re.sub('[0-9]{3}', '###', x)\n",
    "    x = re.sub('[0-9]{2}', '##', x)\n",
    "    return x\n",
    "\n",
    "def clean_special_chars(text, punct, mapping):\n",
    "    for p in mapping:\n",
    "        text = text.replace(p, mapping[p])\n",
    "    \n",
    "    for p in punct:\n",
    "        text = text.replace(p, f' {p} ')\n",
    "    \n",
    "    specials = {'\\u200b': ' ', '…': ' ... ', '\\ufeff': '', 'करना': '', 'है': ''}  # Other special characters that I have to deal with in last\n",
    "    for s in specials:\n",
    "        text = text.replace(s, specials[s])\n",
    "    \n",
    "    return text\n",
    "def add_lower(embedding, vocab):\n",
    "    count = 0\n",
    "    for word in vocab:\n",
    "        if word in embedding and word.lower() not in embedding:  \n",
    "            embedding[word.lower()] = embedding[word]\n",
    "            count += 1\n",
    "    print(f\"Added {count} words to embedding\")    "
   ]
  },
  {
   "cell_type": "code",
   "execution_count": 14,
   "metadata": {},
   "outputs": [],
   "source": [
    "puncts = [',', '.', '\"', ':', ')', '(', '-', '!', '?', '|', ';', \"'\", '$', '&', '/', '[', ']', '>', '%', '=', '#', '*', '+', '\\\\', '•',  '~', '@', '£', \n",
    " '·', '_', '{', '}', '©', '^', '®', '`',  '<', '→', '°', '€', '™', '›',  '♥', '←', '×', '§', '″', '′', 'Â', '█', '½', 'à', '…', \n",
    " '“', '★', '”', '–', '●', 'â', '►', '−', '¢', '²', '¬', '░', '¶', '↑', '±', '¿', '▾', '═', '¦', '║', '―', '¥', '▓', '—', '‹', '─', \n",
    " '▒', '：', '¼', '⊕', '▼', '▪', '†', '■', '’', '▀', '¨', '▄', '♫', '☆', 'é', '¯', '♦', '¤', '▲', 'è', '¸', '¾', 'Ã', '⋅', '‘', '∞', \n",
    " '∙', '）', '↓', '、', '│', '（', '»', '，', '♪', '╩', '╚', '³', '・', '╦', '╣', '╔', '╗', '▬', '❤', 'ï', 'Ø', '¹', '≤', '‡', '√', ]\n",
    "\n",
    "def clean_text(x):\n",
    "    x = str(x)\n",
    "    for punct in puncts:\n",
    "        x = x.replace(punct, f' {punct} ')\n",
    "    return x\n",
    "\n",
    "def clean_numbers(x):\n",
    "    x = re.sub('[0-9]{5,}', '#####', x)\n",
    "    x = re.sub('[0-9]{4}', '####', x)\n",
    "    x = re.sub('[0-9]{3}', '###', x)\n",
    "    x = re.sub('[0-9]{2}', '##', x)\n",
    "    return x\n",
    "\n",
    "mispell_dict = {\"ain't\": \"is not\", \"aren't\": \"are not\",\"can't\": \"cannot\", \"'cause\": \"because\", \"could've\": \"could have\", \"couldn't\": \"could not\", \"didn't\": \"did not\",  \"doesn't\": \"does not\", \"don't\": \"do not\", \"hadn't\": \"had not\", \"hasn't\": \"has not\", \"haven't\": \"have not\", \"he'd\": \"he would\",\"he'll\": \"he will\", \"he's\": \"he is\", \"how'd\": \"how did\", \"how'd'y\": \"how do you\", \"how'll\": \"how will\", \"how's\": \"how is\",  \"I'd\": \"I would\", \"I'd've\": \"I would have\", \"I'll\": \"I will\", \"I'll've\": \"I will have\",\"I'm\": \"I am\", \"I've\": \"I have\", \"i'd\": \"i would\", \"i'd've\": \"i would have\", \"i'll\": \"i will\",  \"i'll've\": \"i will have\",\"i'm\": \"i am\", \"i've\": \"i have\", \"isn't\": \"is not\", \"it'd\": \"it would\", \"it'd've\": \"it would have\", \"it'll\": \"it will\", \"it'll've\": \"it will have\",\"it's\": \"it is\", \"let's\": \"let us\", \"ma'am\": \"madam\", \"mayn't\": \"may not\", \"might've\": \"might have\",\"mightn't\": \"might not\",\"mightn't've\": \"might not have\", \"must've\": \"must have\", \"mustn't\": \"must not\", \"mustn't've\": \"must not have\", \"needn't\": \"need not\", \"needn't've\": \"need not have\",\"o'clock\": \"of the clock\", \"oughtn't\": \"ought not\", \"oughtn't've\": \"ought not have\", \"shan't\": \"shall not\", \"sha'n't\": \"shall not\", \"shan't've\": \"shall not have\", \"she'd\": \"she would\", \"she'd've\": \"she would have\", \"she'll\": \"she will\", \"she'll've\": \"she will have\", \"she's\": \"she is\", \"should've\": \"should have\", \"shouldn't\": \"should not\", \"shouldn't've\": \"should not have\", \"so've\": \"so have\",\"so's\": \"so as\", \"this's\": \"this is\",\"that'd\": \"that would\", \"that'd've\": \"that would have\", \"that's\": \"that is\", \"there'd\": \"there would\", \"there'd've\": \"there would have\", \"there's\": \"there is\", \"here's\": \"here is\",\"they'd\": \"they would\", \"they'd've\": \"they would have\", \"they'll\": \"they will\", \"they'll've\": \"they will have\", \"they're\": \"they are\", \"they've\": \"they have\", \"to've\": \"to have\", \"wasn't\": \"was not\", \"we'd\": \"we would\", \"we'd've\": \"we would have\", \"we'll\": \"we will\", \"we'll've\": \"we will have\", \"we're\": \"we are\", \"we've\": \"we have\", \"weren't\": \"were not\", \"what'll\": \"what will\", \"what'll've\": \"what will have\", \"what're\": \"what are\",  \"what's\": \"what is\", \"what've\": \"what have\", \"when's\": \"when is\", \"when've\": \"when have\", \"where'd\": \"where did\", \"where's\": \"where is\", \"where've\": \"where have\", \"who'll\": \"who will\", \"who'll've\": \"who will have\", \"who's\": \"who is\", \"who've\": \"who have\", \"why's\": \"why is\", \"why've\": \"why have\", \"will've\": \"will have\", \"won't\": \"will not\", \"won't've\": \"will not have\", \"would've\": \"would have\", \"wouldn't\": \"would not\", \"wouldn't've\": \"would not have\", \"y'all\": \"you all\", \"y'all'd\": \"you all would\",\"y'all'd've\": \"you all would have\",\"y'all're\": \"you all are\",\"y'all've\": \"you all have\",\"you'd\": \"you would\", \"you'd've\": \"you would have\", \"you'll\": \"you will\", \"you'll've\": \"you will have\", \"you're\": \"you are\", \"you've\": \"you have\", 'colour': 'color', 'centre': 'center', 'favourite': 'favorite', 'travelling': 'traveling', 'counselling': 'counseling', 'theatre': 'theater', 'cancelled': 'canceled', 'labour': 'labor', 'organisation': 'organization', 'wwii': 'world war 2', 'citicise': 'criticize', 'youtu ': 'youtube ', 'Qoura': 'Quora', 'sallary': 'salary', 'Whta': 'What', 'narcisist': 'narcissist', 'howdo': 'how do', 'whatare': 'what are', 'howcan': 'how can', 'howmuch': 'how much', 'howmany': 'how many', 'whydo': 'why do', 'doI': 'do I', 'theBest': 'the best', 'howdoes': 'how does', 'mastrubation': 'masturbation', 'mastrubate': 'masturbate', \"mastrubating\": 'masturbating', 'pennis': 'penis', 'Etherium': 'Ethereum', 'narcissit': 'narcissist', 'bigdata': 'big data', '2k17': '2017', '2k18': '2018', 'qouta': 'quota', 'exboyfriend': 'ex boyfriend', 'airhostess': 'air hostess', \"whst\": 'what', 'watsapp': 'whatsapp', 'demonitisation': 'demonetization', 'demonitization': 'demonetization', 'demonetisation': 'demonetization'}\n",
    "\n",
    "def _get_mispell(mispell_dict):\n",
    "    mispell_re = re.compile('(%s)' % '|'.join(mispell_dict.keys()))\n",
    "    return mispell_dict, mispell_re\n",
    "\n",
    "mispellings, mispellings_re = _get_mispell(mispell_dict)\n",
    "def replace_typical_misspell(text):\n",
    "    def replace(match):\n",
    "        return mispellings[match.group(0)]\n",
    "    return mispellings_re.sub(replace, text)"
   ]
  },
  {
   "cell_type": "code",
   "execution_count": 15,
   "metadata": {},
   "outputs": [
    {
     "name": "stderr",
     "output_type": "stream",
     "text": [
      "100%|██████████| 1306122/1306122 [00:39<00:00, 33013.11it/s]\n",
      "100%|██████████| 1306122/1306122 [00:16<00:00, 80579.02it/s]\n",
      "100%|██████████| 1306122/1306122 [00:38<00:00, 34347.09it/s]\n"
     ]
    }
   ],
   "source": [
    "# lower\n",
    "train[\"question_text\"] = train[\"question_text\"].apply(lambda x: x.lower())\n",
    "test[\"question_text\"] = test[\"question_text\"].apply(lambda x: x.lower())\n",
    "\n",
    "# Clean the text\n",
    "train[\"question_text\"] = train[\"question_text\"].progress_apply(lambda x: clean_text(x))\n",
    "test[\"question_text\"] = test[\"question_text\"].apply(lambda x: clean_text(x))\n",
    "\n",
    "# Clean numbers\n",
    "train[\"question_text\"] = train[\"question_text\"].progress_apply(lambda x: clean_numbers(x))\n",
    "test[\"question_text\"] = test[\"question_text\"].apply(lambda x: clean_numbers(x))\n",
    "\n",
    "# Clean speelings\n",
    "train[\"question_text\"] = train[\"question_text\"].progress_apply(lambda x: replace_typical_misspell(x))\n",
    "test[\"question_text\"] = test[\"question_text\"].apply(lambda x: replace_typical_misspell(x))\n",
    "\n",
    "## fill up the missing values\n",
    "train_X = train[\"question_text\"].fillna(\"_##_\").values\n",
    "test_X = test[\"question_text\"].fillna(\"_##_\").values"
   ]
  },
  {
   "cell_type": "code",
   "execution_count": 16,
   "metadata": {},
   "outputs": [],
   "source": [
    "## Tokenize the sentences\n",
    "tokenizer = Tokenizer(num_words=MAX_WORD_TO_USE)\n",
    "tokenizer.fit_on_texts(list(train['question_text']) )\n",
    "train_X = tokenizer.texts_to_sequences(train['question_text'])\n",
    "test_X = tokenizer.texts_to_sequences(test['question_text'])"
   ]
  },
  {
   "cell_type": "code",
   "execution_count": 17,
   "metadata": {},
   "outputs": [],
   "source": [
    "## Pad the sentences \n",
    "train_X = pad_sequences(train_X, maxlen=MAX_LEN)\n",
    "test_X = pad_sequences(test_X, maxlen=MAX_LEN)"
   ]
  },
  {
   "cell_type": "code",
   "execution_count": 18,
   "metadata": {},
   "outputs": [],
   "source": [
    "train_y = train['target'].values"
   ]
  },
  {
   "cell_type": "code",
   "execution_count": 19,
   "metadata": {},
   "outputs": [],
   "source": [
    "word_index = tokenizer.word_index"
   ]
  },
  {
   "cell_type": "code",
   "execution_count": 20,
   "metadata": {},
   "outputs": [],
   "source": [
    "def load_glove(word_index):\n",
    "    EMBEDDING_FILE = '../input/embeddings/glove.840B.300d/glove.840B.300d.txt'\n",
    "    def get_coefs(word,*arr): return word, np.asarray(arr, dtype='float32')[:300]\n",
    "    embeddings_index = dict(get_coefs(*o.split(\" \")) for o in open(EMBEDDING_FILE))\n",
    "    \n",
    "    all_embs = np.stack(embeddings_index.values())\n",
    "    emb_mean,emb_std = -0.005838499,0.48782197\n",
    "    embed_size = all_embs.shape[1]\n",
    "\n",
    "    # word_index = tokenizer.word_index\n",
    "    nb_words = min(MAX_WORD_TO_USE, len(word_index))\n",
    "    embedding_matrix = np.random.normal(emb_mean, emb_std, (nb_words, embed_size))\n",
    "    for word, i in tqdm(word_index.items()):\n",
    "        if i >= MAX_WORD_TO_USE:\n",
    "            continue\n",
    "        embedding_vector = embeddings_index.get(word)\n",
    "        if embedding_vector is not None:\n",
    "            embedding_matrix[i] = embedding_vector\n",
    "            \n",
    "    return embedding_matrix "
   ]
  },
  {
   "cell_type": "code",
   "execution_count": 21,
   "metadata": {},
   "outputs": [],
   "source": [
    "def load_para(word_index):\n",
    "    EMBEDDING_FILE = '../input/embeddings/paragram_300_sl999/paragram_300_sl999.txt'\n",
    "    def get_coefs(word,*arr): return word, np.asarray(arr, dtype='float32')\n",
    "    embeddings_index = dict(get_coefs(*o.split(\" \")) for o in open(EMBEDDING_FILE, encoding=\"utf8\", errors='ignore') if len(o)>100)\n",
    "\n",
    "    all_embs = np.stack(embeddings_index.values())\n",
    "    emb_mean,emb_std = -0.0053247833,0.49346462\n",
    "    embed_size = all_embs.shape[1]\n",
    "\n",
    "    # word_index = tokenizer.word_index\n",
    "    nb_words = min(MAX_WORD_TO_USE, len(word_index))\n",
    "    embedding_matrix = np.random.normal(emb_mean, emb_std, (nb_words, embed_size))\n",
    "    for word, i in word_index.items():\n",
    "        if i >= MAX_WORD_TO_USE: continue\n",
    "        embedding_vector = embeddings_index.get(word)\n",
    "        if embedding_vector is not None: embedding_matrix[i] = embedding_vector\n",
    "    \n",
    "    return embedding_matrix"
   ]
  },
  {
   "cell_type": "code",
   "execution_count": 22,
   "metadata": {},
   "outputs": [
    {
     "name": "stderr",
     "output_type": "stream",
     "text": [
      "/usr/local/lib/python3.6/dist-packages/ipykernel_launcher.py:6: FutureWarning: arrays to stack must be passed as a \"sequence\" type such as list or tuple. Support for non-sequence iterables such as generators is deprecated as of NumPy 1.16 and will raise an error in the future.\n",
      "  \n",
      "100%|██████████| 185777/185777 [00:00<00:00, 1084307.72it/s]\n"
     ]
    }
   ],
   "source": [
    "glove_embeddings = load_glove(word_index)\n",
    "paragram_embeddings = load_para(word_index)"
   ]
  },
  {
   "cell_type": "code",
   "execution_count": null,
   "metadata": {},
   "outputs": [],
   "source": [
    "#embedding_matrix = np.mean([glove_embeddings, paragram_embeddings], axis=0)"
   ]
  },
  {
   "cell_type": "markdown",
   "metadata": {},
   "source": [
    "# CUDNNGRU, ATTENTION , GLOVE"
   ]
  },
  {
   "cell_type": "code",
   "execution_count": 23,
   "metadata": {},
   "outputs": [],
   "source": [
    "embedding_matrix = glove_embeddings\n",
    "embedding_matrix = embedding_matrix.astype('float32')\n",
    "splits = list(StratifiedKFold(n_splits=n_splits, shuffle=True, random_state=51).split(train_X, train_y))"
   ]
  },
  {
   "cell_type": "code",
   "execution_count": 24,
   "metadata": {},
   "outputs": [
    {
     "name": "stdout",
     "output_type": "stream",
     "text": [
      "Model was built up\n"
     ]
    }
   ],
   "source": [
    "#Resetting the graph\n",
    "tf.reset_default_graph()\n",
    "\n",
    "#Seed the randomness\n",
    "tf.set_random_seed(51)\n",
    "\n",
    "#Defining Placeholders\n",
    "input_data = tf.placeholder(tf.int32, [None, MAX_LEN])\n",
    "y_true = tf.placeholder(tf.float32, [None, numClasses])\n",
    "\n",
    "hold_prob1 = tf.placeholder(tf.float32)\n",
    "#Creating our Embedding matrix\n",
    "data = tf.nn.embedding_lookup(embedding_matrix,input_data)\n",
    "\n",
    "data = tf.transpose(data, [1, 0, 2])\n",
    "\n",
    "#For single layer GRU\n",
    "GRU_CELL = tf.contrib.cudnn_rnn.CudnnGRU(num_layers=1,num_units=GRU_UNITS,\\\n",
    "                                         bias_initializer = tf.constant_initializer(0.1),\\\n",
    "                                         kernel_initializer=tf.contrib.layers.xavier_initializer() )\n",
    "\n",
    "value, _ = GRU_CELL(inputs= data)\n",
    "\n",
    "time_major=True\n",
    "return_alphas=False\n",
    "bidirectional_existing =False\n",
    "weight_in_att = tf.Variable(tf.truncated_normal([GRU_UNITS, attention_size],stddev=0.1))\n",
    "bias_in_att = tf.Variable(tf.constant(0.1, shape=[attention_size]))\n",
    "weight_out_att = tf.Variable(tf.truncated_normal([attention_size],stddev=0.1))\n",
    "\n",
    "#Concating if bidirectional exists\n",
    "if bidirectional_existing:\n",
    "    value = tf.concat(value, 2)\n",
    "\n",
    "#Changing the shape\n",
    "if time_major:\n",
    "    value = tf.transpose(value, [1, 0, 2])\n",
    "    \n",
    "#Attention calculations\n",
    "v = tf.tanh(tf.tensordot(value, weight_in_att, axes=1) + bias_in_att)\n",
    "vu = tf.tensordot(v, weight_out_att, axes=1)\n",
    "alphas = tf.nn.softmax(vu)\n",
    "temp = value * tf.expand_dims(alphas, -1)\n",
    "\n",
    "# Output of (Bi-)RNN is reduced with attention vector; the result has (B,D) shape\n",
    "output = tf.reduce_sum(temp, 1)\n",
    "\n",
    "#Defining weights and biases for 1 st Fully Connected part of NN\n",
    "weight_fc1 = tf.Variable(tf.truncated_normal([GRU_UNITS, nodes_on_FC]))\n",
    "bias_fc1 = tf.Variable(tf.constant(0.1, shape=[nodes_on_FC]))\n",
    "\n",
    "#Defining 1st FC layer\n",
    "y_pred_without_BN = tf.matmul(output, weight_fc1) + bias_fc1\n",
    "#calculating batch_mean and batch_variance\n",
    "batch_mean, batch_var = tf.nn.moments(y_pred_without_BN,[0])\n",
    "#Creating parameters for Batch normalization\n",
    "scale = tf.Variable(tf.ones([nodes_on_FC]))\n",
    "beta = tf.Variable(tf.zeros([nodes_on_FC]))\n",
    "#Implementing batch normalization\n",
    "y_pred_without_activation = tf.nn.batch_normalization(y_pred_without_BN,batch_mean,batch_var,beta,scale,epsilon)\n",
    "\n",
    "#Applying RELU\n",
    "y_pred_with_activation = tf.nn.relu(y_pred_without_activation)\n",
    "#Dropout Layer 1\n",
    "y_pred_with_dropout = tf.nn.dropout(y_pred_with_activation,keep_prob=hold_prob1)\n",
    "\n",
    "#Defining weights and biases for 1 st Fully Connected part of NN\n",
    "weight_output_layer = tf.Variable(tf.truncated_normal([nodes_on_FC, numClasses]))\n",
    "bias_output_layer = tf.Variable(tf.constant(0.1, shape=[numClasses]))\n",
    "#Calculating last layer of NN, without any activation\n",
    "y_pred = tf.matmul(y_pred_with_dropout, weight_output_layer) + bias_output_layer\n",
    "\n",
    "y_pred_softmax = tf.nn.softmax(y_pred)\n",
    "\n",
    "\n",
    "#Defining Accuracy\n",
    "matches = tf.equal(tf.argmax(y_pred,1),tf.argmax(y_true,1))\n",
    "acc = tf.reduce_mean(tf.cast(matches,tf.float32))\n",
    "\n",
    "#Defining Loss Function\n",
    "cross_entropy = tf.reduce_mean(tf.nn.softmax_cross_entropy_with_logits_v2(labels=y_true,logits=y_pred))\n",
    "#Defining objective\n",
    "training = tf.train.RMSPropOptimizer(learning_rate=0.001).minimize(cross_entropy)\n",
    "\n",
    "##Initializing trainable/non-trainable variables\n",
    "init = tf.global_variables_initializer()\n",
    "\n",
    "#Creating a tf.train.Saver() object to keep records\n",
    "saver = tf.train.Saver()\n",
    "\n",
    "#Defining a function for early stopping\n",
    "def early_stopping_check(x):\n",
    "    if np.mean(x[-20:]) <= np.mean(x[-80:]):\n",
    "        return True\n",
    "    else:\n",
    "        return False\n",
    "print(\"Model was built up\")"
   ]
  },
  {
   "cell_type": "code",
   "execution_count": null,
   "metadata": {},
   "outputs": [],
   "source": [
    "train_preds = np.zeros((len(train_X),2))\n",
    "test_preds = []\n",
    "#GPU settings\n",
    "config = tf.ConfigProto(allow_soft_placement=True)\n",
    "config.gpu_options.allow_growth = True\n",
    "config.gpu_options.allocator_type = 'BFC'\n",
    "#Opening up Session\n",
    "for j, (train_idx, valid_idx) in enumerate(splits): \n",
    "    print( \"Fold {} has started\".format(j) )\n",
    "    with tf.Session(config=config) as sess:\n",
    "        #Running init\n",
    "        sess.run(init)    \n",
    "\n",
    "        #For TensorBoard\n",
    "        tf.summary.scalar('Loss', cross_entropy)\n",
    "        tf.summary.scalar('Accuracy', acc)\n",
    "        merged = tf.summary.merge_all()\n",
    "        logdir_train = \"tensorboard/\" + datetime.now().strftime(\"%Y%m%d-%H%M%S\") + \"/\" + 'train'\n",
    "        logdir_cv = \"tensorboard/\" + datetime.now().strftime(\"%Y%m%d-%H%M%S\") + \"/\" + 'cv'\n",
    "\n",
    "        writer_train = tf.summary.FileWriter(logdir_train, sess.graph)\n",
    "        writer_cv = tf.summary.FileWriter(logdir_cv, sess.graph)\n",
    "\n",
    "        #Creating a list for Early Stopping\n",
    "        val_scores_loss= []\n",
    "        val_scores_f1= []\n",
    "        \n",
    "        #Main loop\n",
    "        for i in range(iterations):\n",
    "            random_numbers = np.random.choice(train_idx,batchSize)\n",
    "            _,c = sess.run([training,cross_entropy] ,feed_dict = {input_data : train_X[random_numbers],\\\n",
    "            y_true : pd.get_dummies(train_y[random_numbers]).values, hold_prob1:0.6} )\n",
    "\n",
    "            #Validating Loop\n",
    "            if i % 50 == 0:\n",
    "                random_numbers_cv = np.random.choice(valid_idx,batchSize)\n",
    "                \n",
    "                #Getting train stats.\n",
    "                acc_tr,loss_tr,summary_tr,prob_tr = sess.run([acc,cross_entropy,merged,y_pred],\\\n",
    "                feed_dict={input_data:train_X[random_numbers],\\\n",
    "                           y_true:pd.get_dummies(train_y[random_numbers]).values, hold_prob1:1.0 })\n",
    "                #Train F1\n",
    "                pred_tr = prob_tr.argmax(axis=1)\n",
    "                f1_tr = f1_score(train_y[random_numbers],pred_tr)\n",
    "                                \n",
    "                #Getting validation stats.\n",
    "                acc_cv,loss_cv,summary_cv,prob_cv = sess.run([acc,cross_entropy,merged,y_pred],\\\n",
    "                feed_dict = {input_data:train_X[random_numbers_cv],\\\n",
    "                             y_true:pd.get_dummies(train_y[random_numbers_cv]).values,hold_prob1:1.0})\n",
    "                \n",
    "                pred_cv = prob_cv.argmax(axis=1)\n",
    "                f1_cv = f1_score(train_y[random_numbers_cv],pred_cv)\n",
    "\n",
    "                #Appending loss_cv to val_scores:\n",
    "                val_scores_loss.append(loss_cv)\n",
    "                val_scores_f1.append(f1_cv)\n",
    "\n",
    "                #Adding results for TensorBoard\n",
    "                writer_train.add_summary(summary_tr, i)\n",
    "                writer_train.flush()\n",
    "                writer_cv.add_summary(summary_cv, i)\n",
    "                writer_cv.flush()\n",
    "\n",
    "                #Printing on each 1000 iterations\n",
    "                if i%1000 ==0:\n",
    "                    print(\"Training  : Iter = {}, Train Loss = {}, Train Accuracy = {}\".format(i,loss_tr,acc_tr))\n",
    "                    print(\"Validation: Iter = {}, CV    Loss = {}, CV Accuracy = {}\".format(i,loss_cv,acc_cv))\n",
    "                    \n",
    "                    print(\"Training  : Iter = {}, Train-F1 = {}\".format(i,f1_tr))\n",
    "                    print(\"Validation: Iter = {}, CV-F1    = {}\".format(i,f1_cv))\n",
    "\n",
    "                    #If validation loss didn't decrease for val_loop_iter * 20 iters, stop.\n",
    "                    \"\"\"if early_stopping_check(val_scores_loss) == False:\n",
    "                        saver.save(sess, os.path.join(os.getcwd(),\"1_layered_GRU.ckpt\"),global_step=i)\n",
    "                        continue\"\"\"\n",
    "                if (np.mean(val_scores_f1[-5:]) > 0.7000) & ( np.mean(val_scores_loss[-5:]) <0.0850 ):\n",
    "                    print(\"Early Finishing\")\n",
    "                    print( val_scores_f1[-5:] )\n",
    "                    print( val_scores_loss[-5:] )\n",
    "                    break\n",
    "        \n",
    "        #OOF predictions        \n",
    "        for r in range(0,len(valid_idx),scoring_amount):\n",
    "            index_train = valid_idx[r:r + scoring_amount]\n",
    "            train_preds[index_train,:] = y_pred_softmax.eval(feed_dict={input_data:train_X[index_train],hold_prob1:1.0},session=sess)\n",
    "\n",
    "        #Test predictions        \n",
    "        test_fold = []\n",
    "        for r in range(0,len(test_X),scoring_amount):\n",
    "            k = y_pred_softmax.eval(feed_dict={input_data:test_X[r:r+scoring_amount],hold_prob1:1.0},session=sess)\n",
    "            test_fold.append(k)\n",
    "            del k\n",
    "        test_preds.append(test_fold)\n",
    "        \n",
    "        saver.save(sess, os.path.join(os.getcwd(),\"{}_GRU.ckpt\".format(j)))\n",
    "        print(\"Training {} has finished\".format(j))"
   ]
  },
  {
   "cell_type": "code",
   "execution_count": null,
   "metadata": {},
   "outputs": [],
   "source": [
    "train_preds_classes = train_preds.argmax(axis=1)"
   ]
  },
  {
   "cell_type": "code",
   "execution_count": null,
   "metadata": {},
   "outputs": [],
   "source": [
    "def bestThresshold(y_train,train_preds2):\n",
    "    tmp = [0,0,0] # idx, cur, max\n",
    "    delta = 0\n",
    "    for tmp[0] in tqdm(np.arange(0.1, 0.501, 0.01)):\n",
    "        tmp[1] = f1_score(y_train, np.array(train_preds2)>tmp[0])\n",
    "        if tmp[1] > tmp[2]:\n",
    "            delta = tmp[0]\n",
    "            tmp[2] = tmp[1]\n",
    "    print('best threshold is {:.4f} with F1 score: {:.4f}'.format(delta, tmp[2]))\n",
    "    return delta"
   ]
  },
  {
   "cell_type": "code",
   "execution_count": null,
   "metadata": {},
   "outputs": [],
   "source": [
    "delta = bestThresshold(train_y,train_preds_classes)"
   ]
  },
  {
   "cell_type": "code",
   "execution_count": null,
   "metadata": {},
   "outputs": [],
   "source": [
    "our_preds_test = []\n",
    "for i in test_preds:\n",
    "    l = np.zeros((0,2))\n",
    "    for j in i:\n",
    "        l = np.append(l,j,axis=0)\n",
    "    our_preds_test.append(l)\n",
    "test_predictions = our_preds_test[0] + our_preds_test[1] + our_preds_test[2] + our_preds_test[3] + our_preds_test[4]\n",
    "test_predictions = test_predictions / 5\n",
    "test_predictions = test_predictions[:,1]\n",
    "\n",
    "submission1 = test[['qid']].copy()\n",
    "submission1['prediction'] = (test_predictions > delta).astype(int)"
   ]
  },
  {
   "cell_type": "code",
   "execution_count": null,
   "metadata": {},
   "outputs": [],
   "source": [
    "submission.to_csv('submission.csv', index=False)"
   ]
  }
 ],
 "metadata": {
  "kernelspec": {
   "display_name": "Python 3",
   "language": "python",
   "name": "python3"
  },
  "language_info": {
   "codemirror_mode": {
    "name": "ipython",
    "version": 3
   },
   "file_extension": ".py",
   "mimetype": "text/x-python",
   "name": "python",
   "nbconvert_exporter": "python",
   "pygments_lexer": "ipython3",
   "version": "3.6.7"
  }
 },
 "nbformat": 4,
 "nbformat_minor": 2
}
