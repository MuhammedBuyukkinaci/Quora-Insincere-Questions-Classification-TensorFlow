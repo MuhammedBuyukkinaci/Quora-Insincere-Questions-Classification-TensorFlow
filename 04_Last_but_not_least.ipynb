{
 "cells": [
  {
   "cell_type": "code",
   "execution_count": 1,
   "metadata": {},
   "outputs": [
    {
     "name": "stderr",
     "output_type": "stream",
     "text": [
      "Using TensorFlow backend.\n"
     ]
    }
   ],
   "source": [
    "import numpy as np\n",
    "import pandas as pd\n",
    "from keras.preprocessing.text import Tokenizer\n",
    "from keras.preprocessing.text import text_to_word_sequence\n",
    "import os\n",
    "from tqdm import tqdm\n",
    "import re\n",
    "from keras.preprocessing.sequence import pad_sequences\n",
    "import tensorflow as tf\n",
    "from datetime import datetime\n",
    "from sklearn.model_selection import StratifiedKFold\n",
    "from sklearn.metrics import f1_score\n",
    "import matplotlib.pyplot as plt\n",
    "from sklearn.metrics import confusion_matrix\n",
    "import itertools\n",
    "from sklearn.metrics import mean_squared_error\n",
    "from math import sqrt"
   ]
  },
  {
   "cell_type": "code",
   "execution_count": 2,
   "metadata": {},
   "outputs": [],
   "source": [
    "tqdm.pandas('desc')"
   ]
  },
  {
   "cell_type": "code",
   "execution_count": 3,
   "metadata": {},
   "outputs": [],
   "source": [
    "#Always seed the randomness of this universe.\n",
    "SEED = 51\n",
    "np.random.seed(SEED)"
   ]
  },
  {
   "cell_type": "code",
   "execution_count": 4,
   "metadata": {},
   "outputs": [],
   "source": [
    "#Define HyperParameters\n",
    "scoring_amount = 512 # how many samples taken to score test data\n",
    "n_splits = 5 # how many folds\n",
    "MAX_WORD_TO_USE = 150000 # how many words to use in training\n",
    "MAX_LEN = 72 # number of time-steps.\n",
    "EMBED_SIZE = 300 #GLoVe 100-D\n",
    "batchSize = 512 # how many samples to feed neural network\n",
    "GRU_UNITS = 256 # Number of nodes in GRU Layer\n",
    "numClasses = 2 #{Sincere,Insincere}\n",
    "attention_size = 64 # how many nodes in attention layer\n",
    "iterations = 10000 # How many iterations to train\n",
    "nodes_on_FC = 64 # Number of nodes on FC layer\n",
    "epsilon = 1e-4# For batch normalization\n",
    "val_loop_iter = 200 # in how many iters we record\n",
    "SEED = 51 # our seed"
   ]
  },
  {
   "cell_type": "code",
   "execution_count": 5,
   "metadata": {},
   "outputs": [],
   "source": [
    "#Reading csv's\n",
    "train = pd.read_csv('../input/train.csv')\n",
    "test = pd.read_csv('../input/test.csv')"
   ]
  },
  {
   "cell_type": "code",
   "execution_count": 6,
   "metadata": {},
   "outputs": [
    {
     "name": "stderr",
     "output_type": "stream",
     "text": [
      "100%|██████████| 1306122/1306122 [00:01<00:00, 957755.06it/s] \n",
      "100%|██████████| 56370/56370 [00:00<00:00, 785948.36it/s]\n"
     ]
    }
   ],
   "source": [
    "train['question_text'] = train['question_text'].progress_apply(lambda x:str(x))\n",
    "test['question_text'] = test['question_text'].progress_apply(lambda x:str(x))"
   ]
  },
  {
   "cell_type": "code",
   "execution_count": 7,
   "metadata": {},
   "outputs": [
    {
     "data": {
      "text/html": [
       "<div>\n",
       "<style scoped>\n",
       "    .dataframe tbody tr th:only-of-type {\n",
       "        vertical-align: middle;\n",
       "    }\n",
       "\n",
       "    .dataframe tbody tr th {\n",
       "        vertical-align: top;\n",
       "    }\n",
       "\n",
       "    .dataframe thead th {\n",
       "        text-align: right;\n",
       "    }\n",
       "</style>\n",
       "<table border=\"1\" class=\"dataframe\">\n",
       "  <thead>\n",
       "    <tr style=\"text-align: right;\">\n",
       "      <th></th>\n",
       "      <th>qid</th>\n",
       "      <th>question_text</th>\n",
       "      <th>target</th>\n",
       "    </tr>\n",
       "  </thead>\n",
       "  <tbody>\n",
       "    <tr>\n",
       "      <th>0</th>\n",
       "      <td>00002165364db923c7e6</td>\n",
       "      <td>How did Quebec nationalists see their province...</td>\n",
       "      <td>0</td>\n",
       "    </tr>\n",
       "    <tr>\n",
       "      <th>1</th>\n",
       "      <td>000032939017120e6e44</td>\n",
       "      <td>Do you have an adopted dog, how would you enco...</td>\n",
       "      <td>0</td>\n",
       "    </tr>\n",
       "    <tr>\n",
       "      <th>2</th>\n",
       "      <td>0000412ca6e4628ce2cf</td>\n",
       "      <td>Why does velocity affect time? Does velocity a...</td>\n",
       "      <td>0</td>\n",
       "    </tr>\n",
       "    <tr>\n",
       "      <th>3</th>\n",
       "      <td>000042bf85aa498cd78e</td>\n",
       "      <td>How did Otto von Guericke used the Magdeburg h...</td>\n",
       "      <td>0</td>\n",
       "    </tr>\n",
       "    <tr>\n",
       "      <th>4</th>\n",
       "      <td>0000455dfa3e01eae3af</td>\n",
       "      <td>Can I convert montra helicon D to a mountain b...</td>\n",
       "      <td>0</td>\n",
       "    </tr>\n",
       "  </tbody>\n",
       "</table>\n",
       "</div>"
      ],
      "text/plain": [
       "                    qid                                      question_text  \\\n",
       "0  00002165364db923c7e6  How did Quebec nationalists see their province...   \n",
       "1  000032939017120e6e44  Do you have an adopted dog, how would you enco...   \n",
       "2  0000412ca6e4628ce2cf  Why does velocity affect time? Does velocity a...   \n",
       "3  000042bf85aa498cd78e  How did Otto von Guericke used the Magdeburg h...   \n",
       "4  0000455dfa3e01eae3af  Can I convert montra helicon D to a mountain b...   \n",
       "\n",
       "   target  \n",
       "0       0  \n",
       "1       0  \n",
       "2       0  \n",
       "3       0  \n",
       "4       0  "
      ]
     },
     "execution_count": 7,
     "metadata": {},
     "output_type": "execute_result"
    }
   ],
   "source": [
    "train.head()"
   ]
  },
  {
   "cell_type": "code",
   "execution_count": 8,
   "metadata": {},
   "outputs": [],
   "source": [
    "def build_vocab(texts):\n",
    "    sentences = texts.apply(lambda x: x.split()).values\n",
    "    vocab = {}\n",
    "    for sentence in sentences:\n",
    "        for word in sentence:\n",
    "            try:\n",
    "                vocab[word] += 1\n",
    "            except KeyError:\n",
    "                vocab[word] = 1\n",
    "    return vocab\n",
    "\n",
    "def known_contractions(embed):\n",
    "    known = []\n",
    "    for contract in contraction_mapping:\n",
    "        if contract in embed:\n",
    "            known.append(contract)\n",
    "    return known\n",
    "\n",
    "def clean_contractions(text, mapping):\n",
    "    specials = [\"’\", \"‘\", \"´\", \"`\"]\n",
    "    for s in specials:\n",
    "        text = text.replace(s, \"'\")\n",
    "    text = ' '.join([mapping[t] if t in mapping else t for t in text.split(\" \")])\n",
    "    return text\n",
    "\n",
    "def correct_spelling(x, dic):\n",
    "    for word in dic.keys():\n",
    "        x = x.replace(word, dic[word])\n",
    "    return x\n",
    "\n",
    "def unknown_punct(embed, punct):\n",
    "    unknown = ''\n",
    "    for p in punct:\n",
    "        if p not in embed:\n",
    "            unknown += p\n",
    "            unknown += ' '\n",
    "    return unknown\n",
    "\n",
    "def clean_numbers(x):\n",
    "    x = re.sub('[0-9]{5,}', '#####', x)\n",
    "    x = re.sub('[0-9]{4}', '####', x)\n",
    "    x = re.sub('[0-9]{3}', '###', x)\n",
    "    x = re.sub('[0-9]{2}', '##', x)\n",
    "    return x\n",
    "\n",
    "def clean_special_chars(text, punct, mapping):\n",
    "    for p in mapping:\n",
    "        text = text.replace(p, mapping[p])\n",
    "    \n",
    "    for p in punct:\n",
    "        text = text.replace(p, f' {p} ')\n",
    "    \n",
    "    specials = {'\\u200b': ' ', '…': ' ... ', '\\ufeff': '', 'करना': '', 'है': ''}  # Other special characters that I have to deal with in last\n",
    "    for s in specials:\n",
    "        text = text.replace(s, specials[s])\n",
    "    \n",
    "    return text\n",
    "def add_lower(embedding, vocab):\n",
    "    count = 0\n",
    "    for word in vocab:\n",
    "        if word in embedding and word.lower() not in embedding:  \n",
    "            embedding[word.lower()] = embedding[word]\n",
    "            count += 1\n",
    "    print(f\"Added {count} words to embedding\")    "
   ]
  },
  {
   "cell_type": "code",
   "execution_count": 9,
   "metadata": {},
   "outputs": [],
   "source": [
    "puncts = [',', '.', '\"', ':', ')', '(', '-', '!', '?', '|', ';', \"'\", '$', '&', '/', '[', ']', '>', '%', '=', '#', '*', '+', '\\\\', '•',  '~', '@', '£', \n",
    " '·', '_', '{', '}', '©', '^', '®', '`',  '<', '→', '°', '€', '™', '›',  '♥', '←', '×', '§', '″', '′', 'Â', '█', '½', 'à', '…', \n",
    " '“', '★', '”', '–', '●', 'â', '►', '−', '¢', '²', '¬', '░', '¶', '↑', '±', '¿', '▾', '═', '¦', '║', '―', '¥', '▓', '—', '‹', '─', \n",
    " '▒', '：', '¼', '⊕', '▼', '▪', '†', '■', '’', '▀', '¨', '▄', '♫', '☆', 'é', '¯', '♦', '¤', '▲', 'è', '¸', '¾', 'Ã', '⋅', '‘', '∞', \n",
    " '∙', '）', '↓', '、', '│', '（', '»', '，', '♪', '╩', '╚', '³', '・', '╦', '╣', '╔', '╗', '▬', '❤', 'ï', 'Ø', '¹', '≤', '‡', '√', ]\n",
    "\n",
    "def clean_text(x):\n",
    "    x = str(x)\n",
    "    for punct in puncts:\n",
    "        x = x.replace(punct, f' {punct} ')\n",
    "    return x\n",
    "\n",
    "mispell_dict = {\"ain't\": \"is not\", \"aren't\": \"are not\",\"can't\": \"cannot\", \"'cause\": \"because\", \"could've\": \"could have\", \"couldn't\": \"could not\", \"didn't\": \"did not\",  \"doesn't\": \"does not\", \"don't\": \"do not\", \"hadn't\": \"had not\", \"hasn't\": \"has not\", \"haven't\": \"have not\", \"he'd\": \"he would\",\"he'll\": \"he will\", \"he's\": \"he is\", \"how'd\": \"how did\", \"how'd'y\": \"how do you\", \"how'll\": \"how will\", \"how's\": \"how is\",  \"I'd\": \"I would\", \"I'd've\": \"I would have\", \"I'll\": \"I will\", \"I'll've\": \"I will have\",\"I'm\": \"I am\", \"I've\": \"I have\", \"i'd\": \"i would\", \"i'd've\": \"i would have\", \"i'll\": \"i will\",  \"i'll've\": \"i will have\",\"i'm\": \"i am\", \"i've\": \"i have\", \"isn't\": \"is not\", \"it'd\": \"it would\", \"it'd've\": \"it would have\", \"it'll\": \"it will\", \"it'll've\": \"it will have\",\"it's\": \"it is\", \"let's\": \"let us\", \"ma'am\": \"madam\", \"mayn't\": \"may not\", \"might've\": \"might have\",\"mightn't\": \"might not\",\"mightn't've\": \"might not have\", \"must've\": \"must have\", \"mustn't\": \"must not\", \"mustn't've\": \"must not have\", \"needn't\": \"need not\", \"needn't've\": \"need not have\",\"o'clock\": \"of the clock\", \"oughtn't\": \"ought not\", \"oughtn't've\": \"ought not have\", \"shan't\": \"shall not\", \"sha'n't\": \"shall not\", \"shan't've\": \"shall not have\", \"she'd\": \"she would\", \"she'd've\": \"she would have\", \"she'll\": \"she will\", \"she'll've\": \"she will have\", \"she's\": \"she is\", \"should've\": \"should have\", \"shouldn't\": \"should not\", \"shouldn't've\": \"should not have\", \"so've\": \"so have\",\"so's\": \"so as\", \"this's\": \"this is\",\"that'd\": \"that would\", \"that'd've\": \"that would have\", \"that's\": \"that is\", \"there'd\": \"there would\", \"there'd've\": \"there would have\", \"there's\": \"there is\", \"here's\": \"here is\",\"they'd\": \"they would\", \"they'd've\": \"they would have\", \"they'll\": \"they will\", \"they'll've\": \"they will have\", \"they're\": \"they are\", \"they've\": \"they have\", \"to've\": \"to have\", \"wasn't\": \"was not\", \"we'd\": \"we would\", \"we'd've\": \"we would have\", \"we'll\": \"we will\", \"we'll've\": \"we will have\", \"we're\": \"we are\", \"we've\": \"we have\", \"weren't\": \"were not\", \"what'll\": \"what will\", \"what'll've\": \"what will have\", \"what're\": \"what are\",  \"what's\": \"what is\", \"what've\": \"what have\", \"when's\": \"when is\", \"when've\": \"when have\", \"where'd\": \"where did\", \"where's\": \"where is\", \"where've\": \"where have\", \"who'll\": \"who will\", \"who'll've\": \"who will have\", \"who's\": \"who is\", \"who've\": \"who have\", \"why's\": \"why is\", \"why've\": \"why have\", \"will've\": \"will have\", \"won't\": \"will not\", \"won't've\": \"will not have\", \"would've\": \"would have\", \"wouldn't\": \"would not\", \"wouldn't've\": \"would not have\", \"y'all\": \"you all\", \"y'all'd\": \"you all would\",\"y'all'd've\": \"you all would have\",\"y'all're\": \"you all are\",\"y'all've\": \"you all have\",\"you'd\": \"you would\", \"you'd've\": \"you would have\", \"you'll\": \"you will\", \"you'll've\": \"you will have\", \"you're\": \"you are\", \"you've\": \"you have\", 'colour': 'color', 'centre': 'center', 'favourite': 'favorite', 'travelling': 'traveling', 'counselling': 'counseling', 'theatre': 'theater', 'cancelled': 'canceled', 'labour': 'labor', 'organisation': 'organization', 'wwii': 'world war 2', 'citicise': 'criticize', 'youtu ': 'youtube ', 'Qoura': 'Quora', 'sallary': 'salary', 'Whta': 'What', 'narcisist': 'narcissist', 'howdo': 'how do', 'whatare': 'what are', 'howcan': 'how can', 'howmuch': 'how much', 'howmany': 'how many', 'whydo': 'why do', 'doI': 'do I', 'theBest': 'the best', 'howdoes': 'how does', 'mastrubation': 'masturbation', 'mastrubate': 'masturbate', \"mastrubating\": 'masturbating', 'pennis': 'penis', 'Etherium': 'Ethereum', 'narcissit': 'narcissist', 'bigdata': 'big data', '2k17': '2017', '2k18': '2018', 'qouta': 'quota', 'exboyfriend': 'ex boyfriend', 'airhostess': 'air hostess', \"whst\": 'what', 'watsapp': 'whatsapp', 'demonitisation': 'demonetization', 'demonitization': 'demonetization', 'demonetisation': 'demonetization'}\n",
    "\n",
    "def _get_mispell(mispell_dict):\n",
    "    mispell_re = re.compile('(%s)' % '|'.join(mispell_dict.keys()))\n",
    "    return mispell_dict, mispell_re\n",
    "\n",
    "mispellings, mispellings_re = _get_mispell(mispell_dict)\n",
    "def replace_typical_misspell(text):\n",
    "    def replace(match):\n",
    "        return mispellings[match.group(0)]\n",
    "    return mispellings_re.sub(replace, text)"
   ]
  },
  {
   "cell_type": "code",
   "execution_count": 10,
   "metadata": {},
   "outputs": [
    {
     "name": "stderr",
     "output_type": "stream",
     "text": [
      "100%|██████████| 1306122/1306122 [00:37<00:00, 35234.46it/s]\n",
      "100%|██████████| 1306122/1306122 [00:15<00:00, 86058.84it/s]\n",
      "100%|██████████| 1306122/1306122 [00:40<00:00, 32089.97it/s]\n"
     ]
    }
   ],
   "source": [
    "# lower\n",
    "train[\"question_text\"] = train[\"question_text\"].apply(lambda x: x.lower())\n",
    "test[\"question_text\"] = test[\"question_text\"].apply(lambda x: x.lower())\n",
    "\n",
    "# Clean the text\n",
    "train[\"question_text\"] = train[\"question_text\"].progress_apply(lambda x: clean_text(x))\n",
    "test[\"question_text\"] = test[\"question_text\"].apply(lambda x: clean_text(x))\n",
    "\n",
    "# Clean numbers\n",
    "train[\"question_text\"] = train[\"question_text\"].progress_apply(lambda x: clean_numbers(x))\n",
    "test[\"question_text\"] = test[\"question_text\"].apply(lambda x: clean_numbers(x))\n",
    "\n",
    "# Clean speelings\n",
    "train[\"question_text\"] = train[\"question_text\"].progress_apply(lambda x: replace_typical_misspell(x))\n",
    "test[\"question_text\"] = test[\"question_text\"].apply(lambda x: replace_typical_misspell(x))\n",
    "\n",
    "## fill up the missing values\n",
    "train_X = train[\"question_text\"].fillna(\"_##_\").values\n",
    "test_X = test[\"question_text\"].fillna(\"_##_\").values"
   ]
  },
  {
   "cell_type": "code",
   "execution_count": 11,
   "metadata": {},
   "outputs": [],
   "source": [
    "## Tokenize the sentences\n",
    "tokenizer = Tokenizer(num_words=MAX_WORD_TO_USE)\n",
    "tokenizer.fit_on_texts(list(train['question_text']) )\n",
    "train_X_temp = tokenizer.texts_to_sequences(train['question_text'])\n",
    "test_X_temp = tokenizer.texts_to_sequences(test['question_text'])"
   ]
  },
  {
   "cell_type": "code",
   "execution_count": 12,
   "metadata": {},
   "outputs": [],
   "source": [
    "## Pad the sentences \n",
    "train_X = pad_sequences(train_X_temp, maxlen=MAX_LEN,truncating = 'post',padding='pre')\n",
    "test_X = pad_sequences(test_X_temp, maxlen=MAX_LEN)"
   ]
  },
  {
   "cell_type": "code",
   "execution_count": 13,
   "metadata": {},
   "outputs": [],
   "source": [
    "train_y = train['target'].values"
   ]
  },
  {
   "cell_type": "code",
   "execution_count": 14,
   "metadata": {},
   "outputs": [],
   "source": [
    "word_index = tokenizer.word_index"
   ]
  },
  {
   "cell_type": "code",
   "execution_count": 15,
   "metadata": {},
   "outputs": [],
   "source": [
    "def load_glove(word_index):\n",
    "    EMBEDDING_FILE = '../input/embeddings/glove.840B.300d/glove.840B.300d.txt'\n",
    "    def get_coefs(word,*arr): return word, np.asarray(arr, dtype='float32')[:300]\n",
    "    embeddings_index = dict(get_coefs(*o.split(\" \")) for o in open(EMBEDDING_FILE))\n",
    "    \n",
    "    all_embs = np.stack(embeddings_index.values())\n",
    "    emb_mean,emb_std = -0.005838499,0.48782197\n",
    "    embed_size = all_embs.shape[1]\n",
    "\n",
    "    # word_index = tokenizer.word_index\n",
    "    nb_words = min(MAX_WORD_TO_USE, len(word_index))\n",
    "    embedding_matrix = np.random.normal(emb_mean, emb_std, (nb_words, embed_size))\n",
    "    for word, i in tqdm(word_index.items()):\n",
    "        if i >= MAX_WORD_TO_USE:\n",
    "            continue\n",
    "        embedding_vector = embeddings_index.get(word)\n",
    "        if embedding_vector is not None:\n",
    "            embedding_matrix[i] = embedding_vector\n",
    "            \n",
    "    return embedding_matrix "
   ]
  },
  {
   "cell_type": "code",
   "execution_count": 16,
   "metadata": {},
   "outputs": [],
   "source": [
    "def load_para(word_index):\n",
    "    EMBEDDING_FILE = '../input/embeddings/paragram_300_sl999/paragram_300_sl999.txt'\n",
    "    def get_coefs(word,*arr): return word, np.asarray(arr, dtype='float32')\n",
    "    embeddings_index = dict(get_coefs(*o.split(\" \")) for o in open(EMBEDDING_FILE, encoding=\"utf8\", errors='ignore') if len(o)>100)\n",
    "\n",
    "    all_embs = np.stack(embeddings_index.values())\n",
    "    emb_mean,emb_std = -0.0053247833,0.49346462\n",
    "    embed_size = all_embs.shape[1]\n",
    "\n",
    "    # word_index = tokenizer.word_index\n",
    "    nb_words = min(MAX_WORD_TO_USE, len(word_index))\n",
    "    embedding_matrix = np.random.normal(emb_mean, emb_std, (nb_words, embed_size))\n",
    "    for word, i in word_index.items():\n",
    "        if i >= MAX_WORD_TO_USE: continue\n",
    "        embedding_vector = embeddings_index.get(word)\n",
    "        if embedding_vector is not None: embedding_matrix[i] = embedding_vector\n",
    "    \n",
    "    return embedding_matrix"
   ]
  },
  {
   "cell_type": "code",
   "execution_count": 18,
   "metadata": {},
   "outputs": [
    {
     "name": "stderr",
     "output_type": "stream",
     "text": [
      "/usr/local/lib/python3.6/dist-packages/ipykernel_launcher.py:6: FutureWarning: arrays to stack must be passed as a \"sequence\" type such as list or tuple. Support for non-sequence iterables such as generators is deprecated as of NumPy 1.16 and will raise an error in the future.\n",
      "  \n",
      "100%|██████████| 185777/185777 [00:00<00:00, 761766.10it/s]\n"
     ]
    }
   ],
   "source": [
    "glove_embeddings = load_glove(word_index)\n",
    "paragram_embeddings = load_para(word_index)"
   ]
  },
  {
   "cell_type": "markdown",
   "metadata": {},
   "source": [
    "# CUDNNGRU, ATTENTION , GLOVE , ADAM"
   ]
  },
  {
   "cell_type": "code",
   "execution_count": 20,
   "metadata": {},
   "outputs": [],
   "source": [
    "embedding_matrix = np.mean([glove_embeddings, paragram_embeddings], axis=0)\n",
    "embedding_matrix = embedding_matrix.astype('float32')\n",
    "splits = list(StratifiedKFold(n_splits=n_splits, shuffle=True, random_state=SEED).split(train_X, train_y))"
   ]
  },
  {
   "cell_type": "code",
   "execution_count": 23,
   "metadata": {},
   "outputs": [
    {
     "name": "stdout",
     "output_type": "stream",
     "text": [
      "[None, 256]\n",
      "Model was built up\n"
     ]
    },
    {
     "name": "stderr",
     "output_type": "stream",
     "text": [
      "/usr/local/lib/python3.6/dist-packages/tensorflow/python/ops/gradients_impl.py:112: UserWarning: Converting sparse IndexedSlices to a dense Tensor of unknown shape. This may consume a large amount of memory.\n",
      "  \"Converting sparse IndexedSlices to a dense Tensor of unknown shape. \"\n"
     ]
    }
   ],
   "source": [
    "#Resetting the graph\n",
    "tf.reset_default_graph()\n",
    "\n",
    "#Seed the randomness\n",
    "tf.set_random_seed(SEED)\n",
    "\n",
    "#Defining Placeholders\n",
    "input_data = tf.placeholder(tf.int32, [None, MAX_LEN])\n",
    "y_true = tf.placeholder(tf.float32, [None, numClasses])\n",
    "\n",
    "hold_prob1 = tf.placeholder(tf.float32)\n",
    "#Creating our Embedding matrix\n",
    "data = tf.nn.embedding_lookup(embedding_matrix,input_data)\n",
    "\n",
    "data = tf.transpose(data, [1, 0, 2])\n",
    "\n",
    "#For single layer GRU\n",
    "GRU_CELL = tf.contrib.cudnn_rnn.CudnnGRU(num_layers=1,num_units=GRU_UNITS,\\\n",
    "                                         bias_initializer = tf.constant_initializer(0.1),\\\n",
    "                                         kernel_initializer=tf.contrib.layers.xavier_initializer() )\n",
    "\n",
    "value, _ = GRU_CELL(inputs= data)\n",
    "\n",
    "last = tf.gather(value, int(value.get_shape()[0]) - 1)\n",
    "\n",
    "##Dropout Layer 1\n",
    "print(last.get_shape().as_list())\n",
    "\n",
    "y_pred_with_dropout = tf.nn.dropout(last,keep_prob=hold_prob1)\n",
    "\n",
    "#Defining weights and biases for 1 st Fully Connected part of NN\n",
    "weight_output_layer = tf.Variable(tf.truncated_normal([GRU_UNITS, numClasses]))\n",
    "bias_output_layer = tf.Variable(tf.constant(0.1, shape=[numClasses]))\n",
    "#Calculating last layer of NN, without any activation\n",
    "y_pred = tf.matmul(y_pred_with_dropout, weight_output_layer) + bias_output_layer\n",
    "\n",
    "y_pred_softmax = tf.nn.softmax(y_pred)\n",
    "\n",
    "#Defining Accuracy\n",
    "matches = tf.equal(tf.argmax(y_pred,1),tf.argmax(y_true,1))\n",
    "acc = tf.reduce_mean(tf.cast(matches,tf.float32))\n",
    "\n",
    "#Defining Loss Function\n",
    "cross_entropy = tf.reduce_mean(tf.nn.softmax_cross_entropy_with_logits_v2(labels=y_true,logits=y_pred))\n",
    "#Defining objective\n",
    "training = tf.train.AdamOptimizer(learning_rate=0.0001).minimize(cross_entropy)\n",
    "\n",
    "##Initializing trainable/non-trainable variables\n",
    "init = tf.global_variables_initializer()\n",
    "\n",
    "print(\"Model was built up\")"
   ]
  },
  {
   "cell_type": "code",
   "execution_count": 24,
   "metadata": {},
   "outputs": [
    {
     "name": "stdout",
     "output_type": "stream",
     "text": [
      "Fold 0 has started\n",
      "Training  : Iter = 0, Train Loss = 0.9647064805030823, Train Accuracy = 0.681640625\n",
      "Validation: Iter = 0, CV    Loss = 0.9833611845970154, CV Accuracy = 0.6875\n",
      "Training 0 has finished\n",
      "Fold 1 has started\n",
      "Training  : Iter = 0, Train Loss = 1.0552140474319458, Train Accuracy = 0.697265625\n",
      "Validation: Iter = 0, CV    Loss = 1.0572450160980225, CV Accuracy = 0.66796875\n",
      "Training 1 has finished\n",
      "Fold 2 has started\n",
      "Training  : Iter = 0, Train Loss = 0.9939935207366943, Train Accuracy = 0.6953125\n",
      "Validation: Iter = 0, CV    Loss = 1.0510047674179077, CV Accuracy = 0.6796875\n",
      "Training 2 has finished\n",
      "Fold 3 has started\n",
      "Training  : Iter = 0, Train Loss = 1.0826166868209839, Train Accuracy = 0.681640625\n",
      "Validation: Iter = 0, CV    Loss = 1.0829393863677979, CV Accuracy = 0.66796875\n",
      "Training 3 has finished\n",
      "Fold 4 has started\n",
      "Training  : Iter = 0, Train Loss = 1.0506223440170288, Train Accuracy = 0.662109375\n",
      "Validation: Iter = 0, CV    Loss = 1.0047069787979126, CV Accuracy = 0.677734375\n",
      "Training 4 has finished\n",
      "CPU times: user 1min 55s, sys: 1min, total: 2min 55s\n",
      "Wall time: 2min 51s\n"
     ]
    }
   ],
   "source": [
    "train_preds = np.zeros((len(train_X),2))\n",
    "test_preds = []\n",
    "#GPU settings\n",
    "config = tf.ConfigProto(allow_soft_placement=True)\n",
    "config.gpu_options.allow_growth = True\n",
    "config.gpu_options.allocator_type = 'BFC'\n",
    "#Opening up Session\n",
    "for j, (train_idx, valid_idx) in enumerate(splits): \n",
    "    print( \"Fold {} has started\".format(j) )\n",
    "    with tf.Session(config=config) as sess:\n",
    "        #Running init\n",
    "        sess.run(init)    \n",
    "        \n",
    "        #Main loop\n",
    "        for i in range(iterations):\n",
    "            random_numbers = np.random.choice(train_idx,batchSize)\n",
    "            _,c = sess.run([training,cross_entropy] ,feed_dict = {input_data : train_X[random_numbers],\\\n",
    "            y_true : pd.get_dummies(train_y[random_numbers]).values, hold_prob1:0.7} )\n",
    "\n",
    "            #Validating Loop\n",
    "            if i % val_loop_iter == 0:\n",
    "                random_numbers_cv = np.random.choice(valid_idx,batchSize)\n",
    "                \n",
    "                #Getting train stats.\n",
    "                acc_tr,loss_tr = sess.run([acc,cross_entropy],\\\n",
    "                feed_dict={input_data:train_X[random_numbers],\\\n",
    "                           y_true:pd.get_dummies(train_y[random_numbers]).values, hold_prob1:1.0 })\n",
    "                \n",
    "                #Getting validation stats.\n",
    "                acc_cv,loss_cv = sess.run([acc,cross_entropy],\\\n",
    "                feed_dict = {input_data:train_X[random_numbers_cv],\\\n",
    "                             y_true:pd.get_dummies(train_y[random_numbers_cv]).values,hold_prob1:1.0})\n",
    "                \n",
    "                #Printing on each 1000 iterations\n",
    "                if i%1000 ==0:\n",
    "                    print(\"Training  : Iter = {}, Train Loss = {}, Train Accuracy = {}\".format(i,loss_tr,acc_tr))\n",
    "                    print(\"Validation: Iter = {}, CV    Loss = {}, CV Accuracy = {}\".format(i,loss_cv,acc_cv))\n",
    "        \n",
    "        #OOF predictions        \n",
    "        for r in range(0,len(valid_idx),scoring_amount):\n",
    "            index_train = valid_idx[r:r + scoring_amount]\n",
    "            train_preds[index_train,:] = y_pred_softmax.eval(feed_dict={input_data:train_X[index_train],hold_prob1:1.0},session=sess)\n",
    "\n",
    "        #Test predictions        \n",
    "        test_fold = []\n",
    "        for r in range(0,len(test_X),scoring_amount):\n",
    "            k = y_pred_softmax.eval(feed_dict={input_data:test_X[r:r+scoring_amount],hold_prob1:1.0},session=sess)\n",
    "            test_fold.append(k)\n",
    "            del k\n",
    "        test_preds.append(test_fold)\n",
    "        \n",
    "        print(\"Training {} has finished\".format(j))"
   ]
  },
  {
   "cell_type": "code",
   "execution_count": 28,
   "metadata": {},
   "outputs": [],
   "source": [
    "our_preds_test = []\n",
    "for i in test_preds:\n",
    "    l = np.zeros((0,2))\n",
    "    for j in i:\n",
    "        l = np.append(l,j,axis=0)\n",
    "    our_preds_test.append(l)\n",
    "test_predictions = our_preds_test[0] + our_preds_test[1] + our_preds_test[2] + our_preds_test[3] + our_preds_test[4]\n",
    "test_predictions = test_predictions / 5\n",
    "test_predictions = test_predictions[:,1]"
   ]
  },
  {
   "cell_type": "markdown",
   "metadata": {},
   "source": [
    "# CUDNNLSTM, ATTENTION, GLOVE + FASTTEXT , RMSPROP"
   ]
  },
  {
   "cell_type": "code",
   "execution_count": 29,
   "metadata": {},
   "outputs": [
    {
     "name": "stdout",
     "output_type": "stream",
     "text": [
      "Model was built up\n"
     ]
    }
   ],
   "source": [
    "#Resetting the graph\n",
    "tf.reset_default_graph()\n",
    "\n",
    "#Seed the randomness\n",
    "tf.set_random_seed(SEED)\n",
    "\n",
    "#Defining Placeholders\n",
    "input_data = tf.placeholder(tf.int32, [None, MAX_LEN])\n",
    "y_true = tf.placeholder(tf.float32, [None, numClasses])\n",
    "\n",
    "hold_prob1 = tf.placeholder(tf.float32)\n",
    "#Creating our Embedding matrix\n",
    "data = tf.nn.embedding_lookup(embedding_matrix,input_data)\n",
    "\n",
    "data = tf.transpose(data, [1, 0, 2])\n",
    "\n",
    "#For single layer GRU\n",
    "GRU_CELL = tf.contrib.cudnn_rnn.CudnnLSTM(num_layers=1,num_units=GRU_UNITS,\\\n",
    "                                         bias_initializer = tf.constant_initializer(0.1),\\\n",
    "                                         kernel_initializer=tf.contrib.layers.xavier_initializer() )\n",
    "\n",
    "value, _ = GRU_CELL(inputs= data)\n",
    "\n",
    "last = tf.gather(value, int(value.get_shape()[0]) - 1)\n",
    "\n",
    "#Defining weights and biases for 1 st Fully Connected part of NN\n",
    "weight_fc1 = tf.Variable(tf.truncated_normal([GRU_UNITS, nodes_on_FC]))\n",
    "bias_fc1 = tf.Variable(tf.constant(0.1, shape=[nodes_on_FC]))\n",
    "\n",
    "#Defining 1st FC layer\n",
    "y_pred_without_BN = tf.matmul(last, weight_fc1) + bias_fc1\n",
    "#calculating batch_mean and batch_variance\n",
    "batch_mean, batch_var = tf.nn.moments(y_pred_without_BN,[0])\n",
    "#Creating parameters for Batch normalization\n",
    "scale = tf.Variable(tf.ones([nodes_on_FC]))\n",
    "beta = tf.Variable(tf.zeros([nodes_on_FC]))\n",
    "#Implementing batch normalization\n",
    "y_pred_without_activation = tf.nn.batch_normalization(y_pred_without_BN,batch_mean,batch_var,beta,scale,epsilon)\n",
    "\n",
    "#Applying RELU\n",
    "y_pred_with_activation = tf.nn.relu(y_pred_without_activation)\n",
    "#Dropout Layer 1\n",
    "y_pred_with_dropout = tf.nn.dropout(y_pred_with_activation,keep_prob=hold_prob1)\n",
    "\n",
    "#Defining weights and biases for 1 st Fully Connected part of NN\n",
    "weight_output_layer = tf.Variable(tf.truncated_normal([nodes_on_FC, numClasses]))\n",
    "bias_output_layer = tf.Variable(tf.constant(0.1, shape=[numClasses]))\n",
    "#Calculating last layer of NN, without any activation\n",
    "y_pred = tf.matmul(y_pred_with_dropout, weight_output_layer) + bias_output_layer\n",
    "\n",
    "y_pred_softmax = tf.nn.softmax(y_pred)\n",
    "\n",
    "\n",
    "#Defining Accuracy\n",
    "matches = tf.equal(tf.argmax(y_pred,1),tf.argmax(y_true,1))\n",
    "acc = tf.reduce_mean(tf.cast(matches,tf.float32))\n",
    "\n",
    "#Defining Loss Function\n",
    "cross_entropy = tf.reduce_mean(tf.nn.softmax_cross_entropy_with_logits_v2(labels=y_true,logits=y_pred))\n",
    "#Defining objective\n",
    "training = tf.train.RMSPropOptimizer(learning_rate=0.0003).minimize(cross_entropy)\n",
    "\n",
    "##Initializing trainable/non-trainable variables\n",
    "init = tf.global_variables_initializer()\n",
    "\n",
    "print(\"Model was built up\")"
   ]
  },
  {
   "cell_type": "code",
   "execution_count": 30,
   "metadata": {},
   "outputs": [
    {
     "name": "stdout",
     "output_type": "stream",
     "text": [
      "Fold 0 has started\n",
      "Training  : Iter = 0, Train Loss = 1.666717290878296, Train Accuracy = 0.580078125\n",
      "Validation: Iter = 0, CV    Loss = 1.6231496334075928, CV Accuracy = 0.6171875\n",
      "Training 0 has finished\n",
      "Fold 1 has started\n",
      "Training  : Iter = 0, Train Loss = 1.6635090112686157, Train Accuracy = 0.5703125\n",
      "Validation: Iter = 0, CV    Loss = 1.5311676263809204, CV Accuracy = 0.6015625\n",
      "Training 1 has finished\n",
      "Fold 2 has started\n",
      "Training  : Iter = 0, Train Loss = 1.6073284149169922, Train Accuracy = 0.609375\n",
      "Validation: Iter = 0, CV    Loss = 1.476291298866272, CV Accuracy = 0.609375\n",
      "Training 2 has finished\n",
      "Fold 3 has started\n",
      "Training  : Iter = 0, Train Loss = 1.5638023614883423, Train Accuracy = 0.595703125\n",
      "Validation: Iter = 0, CV    Loss = 1.7100162506103516, CV Accuracy = 0.576171875\n",
      "Training 3 has finished\n",
      "Fold 4 has started\n",
      "Training  : Iter = 0, Train Loss = 1.5053378343582153, Train Accuracy = 0.587890625\n",
      "Validation: Iter = 0, CV    Loss = 1.6209542751312256, CV Accuracy = 0.61328125\n",
      "Training 4 has finished\n",
      "CPU times: user 2min 19s, sys: 1min 21s, total: 3min 41s\n",
      "Wall time: 3min 36s\n"
     ]
    }
   ],
   "source": [
    "train_preds2 = np.zeros((len(train_X),2))\n",
    "test_preds2 = []\n",
    "#GPU settings\n",
    "config = tf.ConfigProto(allow_soft_placement=True)\n",
    "config.gpu_options.allow_growth = True\n",
    "config.gpu_options.allocator_type = 'BFC'\n",
    "#Opening up Session\n",
    "for j, (train_idx, valid_idx) in enumerate(splits): \n",
    "    print( \"Fold {} has started\".format(j) )\n",
    "    with tf.Session(config=config) as sess:\n",
    "        #Running init\n",
    "        sess.run(init)    \n",
    "        #Main loop\n",
    "        for i in range(iterations):\n",
    "            random_numbers = np.random.choice(train_idx,batchSize)\n",
    "            _,c = sess.run([training,cross_entropy] ,feed_dict = {input_data : train_X[random_numbers],\\\n",
    "            y_true : pd.get_dummies(train_y[random_numbers]).values, hold_prob1:0.7} )\n",
    "\n",
    "            #Validating Loop\n",
    "            if i % val_loop_iter == 0:\n",
    "                random_numbers_cv = np.random.choice(valid_idx,batchSize)\n",
    "                \n",
    "                #Getting train stats.\n",
    "                acc_tr,loss_tr = sess.run([acc,cross_entropy],\\\n",
    "                feed_dict={input_data:train_X[random_numbers],\\\n",
    "                           y_true:pd.get_dummies(train_y[random_numbers]).values, hold_prob1:1.0 })\n",
    "                                \n",
    "                #Getting validation stats.\n",
    "                acc_cv,loss_cv = sess.run([acc,cross_entropy],\\\n",
    "                feed_dict = {input_data:train_X[random_numbers_cv],\\\n",
    "                             y_true:pd.get_dummies(train_y[random_numbers_cv]).values,hold_prob1:1.0})\n",
    "                \n",
    "                #Printing on each 1000 iterations\n",
    "                if i%1000 ==0:\n",
    "                    print(\"Training  : Iter = {}, Train Loss = {}, Train Accuracy = {}\".format(i,loss_tr,acc_tr))\n",
    "                    print(\"Validation: Iter = {}, CV    Loss = {}, CV Accuracy = {}\".format(i,loss_cv,acc_cv))\n",
    "        \n",
    "        #OOF predictions        \n",
    "        for r in range(0,len(valid_idx),scoring_amount):\n",
    "            index_train = valid_idx[r:r + scoring_amount]\n",
    "            train_preds2[index_train,:] = y_pred_softmax.eval(feed_dict={input_data:train_X[index_train],hold_prob1:1.0},session=sess)\n",
    "\n",
    "        #Test predictions        \n",
    "        test_fold = []\n",
    "        for r in range(0,len(test_X),scoring_amount):\n",
    "            k = y_pred_softmax.eval(feed_dict={input_data:test_X[r:r+scoring_amount],hold_prob1:1.0},session=sess)\n",
    "            test_fold.append(k)\n",
    "            del k\n",
    "        test_preds2.append(test_fold)\n",
    "        print(\"Training {} has finished\".format(j))\n",
    "        sess.close()"
   ]
  },
  {
   "cell_type": "code",
   "execution_count": 31,
   "metadata": {},
   "outputs": [],
   "source": [
    "our_preds_test2 = []\n",
    "for i in test_preds2:\n",
    "    l = np.zeros((0,2))\n",
    "    for j in i:\n",
    "        l = np.append(l,j,axis=0)\n",
    "    our_preds_test2.append(l)\n",
    "test_predictions2 = our_preds_test2[0] + our_preds_test2[1] + our_preds_test2[2] + our_preds_test2[3] + our_preds_test2[4]\n",
    "test_predictions2 = test_predictions2 / 5\n",
    "test_predictions2 = test_predictions2[:,1]"
   ]
  },
  {
   "cell_type": "markdown",
   "metadata": {},
   "source": [
    "# PREDICTING"
   ]
  },
  {
   "cell_type": "code",
   "execution_count": 32,
   "metadata": {},
   "outputs": [],
   "source": [
    "training_predictions = pd.concat([ pd.Series(train_preds[:,1]), pd.Series(train_preds2[:,1])],axis=1)\n",
    "testing_predictions = pd.concat([ pd.Series(test_predictions), pd.Series(test_predictions2) ],axis=1)"
   ]
  },
  {
   "cell_type": "code",
   "execution_count": 33,
   "metadata": {},
   "outputs": [],
   "source": [
    "training_predictions.columns = ['model_1','model_2']\n",
    "testing_predictions.columns = ['model_1','model_2']"
   ]
  },
  {
   "cell_type": "code",
   "execution_count": 34,
   "metadata": {},
   "outputs": [],
   "source": [
    "inverse_w_model1 = sqrt(mean_squared_error(train_y, training_predictions['model_1']))\n",
    "inverse_w_model2 = sqrt(mean_squared_error(train_y, training_predictions['model_2']))\n",
    "inverse_w_model1 = 1 / inverse_w_model1\n",
    "inverse_w_model2 = 1 / inverse_w_model2"
   ]
  },
  {
   "cell_type": "code",
   "execution_count": 35,
   "metadata": {},
   "outputs": [],
   "source": [
    "w1 = (inverse_w_model1) / (inverse_w_model1+ inverse_w_model2)\n",
    "w2 = (inverse_w_model2) / (inverse_w_model1+ inverse_w_model2)"
   ]
  },
  {
   "cell_type": "code",
   "execution_count": 36,
   "metadata": {},
   "outputs": [
    {
     "name": "stdout",
     "output_type": "stream",
     "text": [
      "0.6781732942456348 0.32182670575436517\n"
     ]
    }
   ],
   "source": [
    "print(w1,w2)"
   ]
  },
  {
   "cell_type": "code",
   "execution_count": 48,
   "metadata": {},
   "outputs": [],
   "source": [
    "training_predictions['model_1_pred'] = training_predictions['model_1'].apply(lambda x: 1 if x > 0.30 else 0)\n",
    "training_predictions['model_2_pred'] = training_predictions['model_2'].apply(lambda x: 1 if x > 0.30 else 0)"
   ]
  },
  {
   "cell_type": "code",
   "execution_count": 49,
   "metadata": {},
   "outputs": [
    {
     "name": "stdout",
     "output_type": "stream",
     "text": [
      "Model1 F1=\n",
      "0.19325869003520332\n"
     ]
    }
   ],
   "source": [
    "print(\"Model1 F1=\")\n",
    "print(f1_score(train_y,training_predictions['model_1_pred'].values))"
   ]
  },
  {
   "cell_type": "code",
   "execution_count": 50,
   "metadata": {},
   "outputs": [
    {
     "name": "stdout",
     "output_type": "stream",
     "text": [
      "Model2 F1=\n",
      "0.1489383688030508\n"
     ]
    }
   ],
   "source": [
    "print(\"Model2 F1=\")\n",
    "print(f1_score(train_y,training_predictions['model_2_pred'].values))"
   ]
  },
  {
   "cell_type": "code",
   "execution_count": 51,
   "metadata": {},
   "outputs": [],
   "source": [
    "training_predictions['merged']=training_predictions['model_1']*w1 + training_predictions['model_2']*w2\n",
    "testing_predictions['merged']=testing_predictions['model_1']*w1 + testing_predictions['model_2']*w2\n",
    "training_predictions['prediction'] = training_predictions['merged'].apply(lambda x: 1 if x > 0.300 else 0)\n",
    "testing_predictions['prediction'] = testing_predictions['merged'].apply(lambda x: 1 if x > 0.300 else 0)"
   ]
  },
  {
   "cell_type": "code",
   "execution_count": 52,
   "metadata": {},
   "outputs": [
    {
     "name": "stdout",
     "output_type": "stream",
     "text": [
      "Train F1 = \n",
      "0.1837744624782168\n"
     ]
    }
   ],
   "source": [
    "print(\"Train F1 = \")\n",
    "print(f1_score(train_y,training_predictions['prediction'].values))"
   ]
  },
  {
   "cell_type": "code",
   "execution_count": 53,
   "metadata": {},
   "outputs": [
    {
     "data": {
      "text/html": [
       "<div>\n",
       "<style scoped>\n",
       "    .dataframe tbody tr th:only-of-type {\n",
       "        vertical-align: middle;\n",
       "    }\n",
       "\n",
       "    .dataframe tbody tr th {\n",
       "        vertical-align: top;\n",
       "    }\n",
       "\n",
       "    .dataframe thead th {\n",
       "        text-align: right;\n",
       "    }\n",
       "</style>\n",
       "<table border=\"1\" class=\"dataframe\">\n",
       "  <thead>\n",
       "    <tr style=\"text-align: right;\">\n",
       "      <th></th>\n",
       "      <th>model_1</th>\n",
       "      <th>model_2</th>\n",
       "      <th>model_1_pred</th>\n",
       "      <th>model_2_pred</th>\n",
       "      <th>merged</th>\n",
       "      <th>prediction</th>\n",
       "    </tr>\n",
       "  </thead>\n",
       "  <tbody>\n",
       "    <tr>\n",
       "      <th>0</th>\n",
       "      <td>0.000105</td>\n",
       "      <td>0.191356</td>\n",
       "      <td>0</td>\n",
       "      <td>0</td>\n",
       "      <td>0.061655</td>\n",
       "      <td>0</td>\n",
       "    </tr>\n",
       "    <tr>\n",
       "      <th>1</th>\n",
       "      <td>0.005783</td>\n",
       "      <td>0.879459</td>\n",
       "      <td>0</td>\n",
       "      <td>1</td>\n",
       "      <td>0.286955</td>\n",
       "      <td>0</td>\n",
       "    </tr>\n",
       "    <tr>\n",
       "      <th>2</th>\n",
       "      <td>0.000008</td>\n",
       "      <td>0.000019</td>\n",
       "      <td>0</td>\n",
       "      <td>0</td>\n",
       "      <td>0.000011</td>\n",
       "      <td>0</td>\n",
       "    </tr>\n",
       "    <tr>\n",
       "      <th>3</th>\n",
       "      <td>0.004322</td>\n",
       "      <td>0.733715</td>\n",
       "      <td>0</td>\n",
       "      <td>1</td>\n",
       "      <td>0.239060</td>\n",
       "      <td>0</td>\n",
       "    </tr>\n",
       "    <tr>\n",
       "      <th>4</th>\n",
       "      <td>0.000025</td>\n",
       "      <td>0.001445</td>\n",
       "      <td>0</td>\n",
       "      <td>0</td>\n",
       "      <td>0.000482</td>\n",
       "      <td>0</td>\n",
       "    </tr>\n",
       "  </tbody>\n",
       "</table>\n",
       "</div>"
      ],
      "text/plain": [
       "    model_1   model_2  model_1_pred  model_2_pred    merged  prediction\n",
       "0  0.000105  0.191356             0             0  0.061655           0\n",
       "1  0.005783  0.879459             0             1  0.286955           0\n",
       "2  0.000008  0.000019             0             0  0.000011           0\n",
       "3  0.004322  0.733715             0             1  0.239060           0\n",
       "4  0.000025  0.001445             0             0  0.000482           0"
      ]
     },
     "execution_count": 53,
     "metadata": {},
     "output_type": "execute_result"
    }
   ],
   "source": [
    "training_predictions.head()"
   ]
  },
  {
   "cell_type": "code",
   "execution_count": 54,
   "metadata": {},
   "outputs": [],
   "source": [
    "submission_file = pd.concat([test['qid'],testing_predictions['prediction']],axis=1)"
   ]
  },
  {
   "cell_type": "code",
   "execution_count": 55,
   "metadata": {},
   "outputs": [
    {
     "data": {
      "text/html": [
       "<div>\n",
       "<style scoped>\n",
       "    .dataframe tbody tr th:only-of-type {\n",
       "        vertical-align: middle;\n",
       "    }\n",
       "\n",
       "    .dataframe tbody tr th {\n",
       "        vertical-align: top;\n",
       "    }\n",
       "\n",
       "    .dataframe thead th {\n",
       "        text-align: right;\n",
       "    }\n",
       "</style>\n",
       "<table border=\"1\" class=\"dataframe\">\n",
       "  <thead>\n",
       "    <tr style=\"text-align: right;\">\n",
       "      <th></th>\n",
       "      <th>qid</th>\n",
       "      <th>prediction</th>\n",
       "    </tr>\n",
       "  </thead>\n",
       "  <tbody>\n",
       "    <tr>\n",
       "      <th>0</th>\n",
       "      <td>00014894849d00ba98a9</td>\n",
       "      <td>0</td>\n",
       "    </tr>\n",
       "    <tr>\n",
       "      <th>1</th>\n",
       "      <td>000156468431f09b3cae</td>\n",
       "      <td>0</td>\n",
       "    </tr>\n",
       "    <tr>\n",
       "      <th>2</th>\n",
       "      <td>000227734433360e1aae</td>\n",
       "      <td>0</td>\n",
       "    </tr>\n",
       "    <tr>\n",
       "      <th>3</th>\n",
       "      <td>0005e06fbe3045bd2a92</td>\n",
       "      <td>0</td>\n",
       "    </tr>\n",
       "    <tr>\n",
       "      <th>4</th>\n",
       "      <td>00068a0f7f41f50fc399</td>\n",
       "      <td>0</td>\n",
       "    </tr>\n",
       "  </tbody>\n",
       "</table>\n",
       "</div>"
      ],
      "text/plain": [
       "                    qid  prediction\n",
       "0  00014894849d00ba98a9           0\n",
       "1  000156468431f09b3cae           0\n",
       "2  000227734433360e1aae           0\n",
       "3  0005e06fbe3045bd2a92           0\n",
       "4  00068a0f7f41f50fc399           0"
      ]
     },
     "execution_count": 55,
     "metadata": {},
     "output_type": "execute_result"
    }
   ],
   "source": [
    "submission_file.head()"
   ]
  },
  {
   "cell_type": "code",
   "execution_count": 56,
   "metadata": {},
   "outputs": [],
   "source": [
    "submission_file.to_csv('submission.csv', index=False)"
   ]
  }
 ],
 "metadata": {
  "kernelspec": {
   "display_name": "Python 3",
   "language": "python",
   "name": "python3"
  },
  "language_info": {
   "codemirror_mode": {
    "name": "ipython",
    "version": 3
   },
   "file_extension": ".py",
   "mimetype": "text/x-python",
   "name": "python",
   "nbconvert_exporter": "python",
   "pygments_lexer": "ipython3",
   "version": "3.6.7"
  }
 },
 "nbformat": 4,
 "nbformat_minor": 2
}
